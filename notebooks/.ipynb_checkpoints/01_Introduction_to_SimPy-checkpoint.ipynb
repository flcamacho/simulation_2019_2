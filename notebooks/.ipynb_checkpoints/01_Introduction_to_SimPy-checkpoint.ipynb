{
 "cells": [
  {
   "cell_type": "markdown",
   "metadata": {
    "colab_type": "text",
    "id": "I4XclYjbSMkf"
   },
   "source": [
    "# SimPy\n",
    "\n",
    "Basado en SimPy Documentation [Ref 1](https://buildmedia.readthedocs.org/media/pdf/simpy/latest/simpy.pdf). [Ref 2](https://github.com/HMEIatJHU/LearnSimPy/tree/master/quickguide)\n",
    "\n",
    "SimPy es una biblioteca de simulación de eventos discretos. \n",
    "\n",
    "## Conceptos\n",
    "\n",
    "1. El comportamiento de los componentes activos (como vehículos, clientes o mensajes) está modelado con **procesos**. Todos los **procesos** viven en un **entorno** e interactúan entre sí a través de **eventos**.\n",
    "\n",
    "2. Los procesos son descritos por simples generadores de Python (se pueden llamar función de proceso o método de proceso, dependiendo sobre si es una función o un método normal de una clase). Durante su vida, crean **eventos** y los **producen** (yield) para esperar a que se activen.\n",
    "\n",
    "3. SimPy reanuda el proceso cuando ocurre el evento (decimos que el evento se dispara). Múltiples procesos pueden esperar el mismo evento. SimPy los reanuda en el mismo orden en que produjeron ese evento.\n",
    "\n",
    "4. Un tipo de evento importante es el **tiempo de espera** (timeout). Los eventos de este tipo se desencadenan después de que haya transcurrido una cierta cantidad de tiempo (simulado). Permiten que un proceso duerma (o mantenga su estado **hold**) durante el tiempo dado. Se puede crear un tiempo de espera y todos los demás eventos llamando al método apropiado del entorno en el que vive el proceso (entorno, tiempo de espera (), por ejemplo)."
   ]
  },
  {
   "cell_type": "markdown",
   "metadata": {},
   "source": [
    "!pip install SimPy"
   ]
  },
  {
   "cell_type": "markdown",
   "metadata": {},
   "source": [
    "**Ejemplo:** Un proceso de automóvil. El automóvil conducirá y estacionará alternativamente por un tiempo y cuando comienza a conducir (o estacionar), imprimirá el tiempo de simulación actual."
   ]
  },
  {
   "cell_type": "code",
   "execution_count": 5,
   "metadata": {},
   "outputs": [],
   "source": [
    "def car(env):\n",
    "    ## Se crea un loop infinito. A pesar de que nunca terminará, pasará el flujo de control posterior a la \n",
    "    ## simulación, una vez que se alcanza una sentencia yield\n",
    "    while True:\n",
    "        ## It announces its new state by printing a message and the current simulation time (as returned by the Environment.now property)\n",
    "        print('Start parking at %d' % env.now)\n",
    "        parking_duration = 5\n",
    "        #  Once the yielded event is triggered (“it occurs”), the simulation will resume the function at this statement.\n",
    "        # It then calls the Environment.timeout() factory function to create a Timeout event. \n",
    "        # This event describes the point in time the car is done parking (or driving, respectively)\n",
    "        yield env.timeout(parking_duration)\n",
    "\n",
    "        print('Start driving at %d' % env.now)\n",
    "        trip_duration = 2\n",
    "        yield env.timeout(trip_duration)"
   ]
  },
  {
   "cell_type": "markdown",
   "metadata": {},
   "source": [
    "Ahora que se ha modelado el comportamiento de nuestro automóvil, creamos una instancia del mismo y veamos cómo se comporta:"
   ]
  },
  {
   "cell_type": "code",
   "execution_count": 6,
   "metadata": {},
   "outputs": [
    {
     "name": "stdout",
     "output_type": "stream",
     "text": [
      "Start parking at 0\n",
      "Start driving at 5\n",
      "Start parking at 7\n",
      "Start driving at 12\n",
      "Start parking at 14\n"
     ]
    }
   ],
   "source": [
    "import simpy\n",
    "env = simpy.Environment()  ##Our car process requires a reference to an Environment (env) in order to create new events\n",
    "#it creates a process generator that needs to be started and added to the environment via Environment.process().\n",
    "env.process(car(env)) # Its execution is merely scheduled at the current simulation time.\n",
    "env.run(until=15) # Finally, we start the simulation by calling run() and passing an end time to it"
   ]
  },
  {
   "cell_type": "markdown",
   "metadata": {},
   "source": [
    "## Interacción de proceso\n",
    "\n",
    "La instancia de Process que devuelve Environment.process() se puede utilizar para interacciones de procesos (por ejemplo, esperar a que termine otro proceso e interrumpir otro proceso mientras espera un evento).\n",
    "\n",
    "### Esperando un proceso\n",
    "\n",
    "Un proceso SimPy se puede usar como un evento (técnicamente, un proceso en realidad es un evento). \n",
    "\n",
    "Supongamos que el automóvil de nuestro último ejemplo se convirtió mágicamente en un vehículo eléctrico. Los vehículos eléctricos suelen tardar mucho tiempo en cargar sus baterías después de un viaje y por tanto, tienen que esperar hasta que se cargue la batería antes de que puedan comenzar a conducir nuevamente.\n",
    "\n",
    "Podemos modelar esto con un proceso de carga adicional **charge()** para nuestro automóvil. Por lo tanto, refactorizamos nuestro automóvil para que sea una clase con dos métodos de proceso: run () (que es la función de proceso original del automóvil ()) y charge ().\n",
    "\n",
    "El proceso de ejecución se inicia automáticamente cuando se crea una instancia de Car. Se inicia un nuevo proceso de carga cada vez que el vehículo comienza a estacionar. Al generar la instancia de Proceso que devuelve Environment.process (), el proceso de ejecución comienza a esperar a que finalice:"
   ]
  },
  {
   "cell_type": "code",
   "execution_count": 11,
   "metadata": {},
   "outputs": [],
   "source": [
    "# import the environment\n",
    "import simpy\n",
    "env = simpy.Environment()"
   ]
  },
  {
   "cell_type": "code",
   "execution_count": 12,
   "metadata": {},
   "outputs": [],
   "source": [
    "# define the car class\n",
    "class Car(object):\n",
    "    def __init__(self, env):\n",
    "        self.env = env\n",
    "        # Start the run process everytime an instance is created.\n",
    "        # This is particularly important for the interrupttion example below\n",
    "        # The driver is called by environment, and the car starts running as instantiated\n",
    "        self.action = env.process(self.run())\n",
    "\n",
    "    def run(self):\n",
    "        while True:\n",
    "            print('Start parking and charging at %d' % self.env.now)\n",
    "            charge_duration = 5\n",
    "            # We yield the process that process() returns\n",
    "            # to wait for it to finish\n",
    "            yield self.env.process(self.charge(charge_duration))\n",
    "            # This could not work\n",
    "            # yield self.charge(charge_duration)\n",
    "            # This could work, but it is essentially wrong\n",
    "            # no interaction enabled by process()\n",
    "            # yield self.env.timeout(charge_duration)\n",
    "            \n",
    "            # The charge process has finished and\n",
    "            # we can start driving again.\n",
    "            print('Start driving at %d' % self.env.now)\n",
    "            trip_duration = 2\n",
    "            yield self.env.timeout(trip_duration)\n",
    "    \n",
    "    def charge(self, duration):\n",
    "        yield self.env.timeout(duration)"
   ]
  },
  {
   "cell_type": "code",
   "execution_count": 13,
   "metadata": {},
   "outputs": [
    {
     "name": "stdout",
     "output_type": "stream",
     "text": [
      "Start parking and charging at 0\n",
      "Start driving at 5\n",
      "Start parking and charging at 7\n",
      "Start driving at 12\n",
      "Start parking and charging at 14\n"
     ]
    }
   ],
   "source": [
    "car = Car(env)\n",
    "env.run(until=15)"
   ]
  },
  {
   "cell_type": "markdown",
   "metadata": {},
   "source": [
    "### Interrupting Another Process\n",
    "\n",
    "Ahora suponga que no desea esperar hasta que su vehículo eléctrico esté completamente cargado, pero desea interrumpir el proceso de carga y simplemente comenzar a conducir.\n",
    "\n",
    "SimPy le permite interrumpir un proceso en ejecución llamando a su método interrupt():"
   ]
  },
  {
   "cell_type": "code",
   "execution_count": 14,
   "metadata": {},
   "outputs": [],
   "source": [
    "# import the environment\n",
    "import simpy\n",
    "env = simpy.Environment()"
   ]
  },
  {
   "cell_type": "code",
   "execution_count": 15,
   "metadata": {},
   "outputs": [],
   "source": [
    "# define a driver that can access the car and interrupt its charging\n",
    "def driver(env, car):\n",
    "    yield env.timeout(3)\n",
    "    car.action.interrupt()"
   ]
  },
  {
   "cell_type": "markdown",
   "metadata": {},
   "source": [
    "El proceso del conductor tiene una referencia al proceso de acción del automóvil. Después de esperar 3 pasos de tiempo, interrumpe ese proceso.\n",
    "\n",
    "Las interrupciones se lanzan a las funciones del proceso como excepciones de interrupción. El proceso puede decidir qué hacer a continuación (por ejemplo, continuar esperando el evento original o producir un nuevo evento):"
   ]
  },
  {
   "cell_type": "code",
   "execution_count": 16,
   "metadata": {},
   "outputs": [],
   "source": [
    "class Car(object):\n",
    "    def __init__(self, env):\n",
    "        self.env = env\n",
    "        self.action = env.process(self.run())\n",
    "    \n",
    "    def run(self):\n",
    "        while True:\n",
    "            print('Start parking and charging at %d' % self.env.now)\n",
    "            charge_duration = 5\n",
    "            # We may get interrupted while charging the battery\n",
    "            try:\n",
    "                yield self.env.process(self.charge(charge_duration))\n",
    "            except simpy.Interrupt:\n",
    "                # When we received an interrupt, we stop charging and\n",
    "                # switch to the \"driving\" state\n",
    "                print('Was interrupted. Hope, the battery is full enough ...')\n",
    "\n",
    "            print('Start driving at %d' % self.env.now)\n",
    "            trip_duration = 2\n",
    "            yield self.env.timeout(trip_duration)\n",
    "\n",
    "    def charge(self, duration):\n",
    "        yield self.env.timeout(duration)"
   ]
  },
  {
   "cell_type": "code",
   "execution_count": 17,
   "metadata": {},
   "outputs": [
    {
     "name": "stdout",
     "output_type": "stream",
     "text": [
      "Start parking and charging at 0\n",
      "Was interrupted. Hope, the battery is full enough ...\n",
      "Start driving at 3\n",
      "Start parking and charging at 5\n",
      "Start driving at 10\n",
      "Start parking and charging at 12\n"
     ]
    }
   ],
   "source": [
    "car = Car(env)\n",
    "env.process(driver(env, car))\n",
    "env.run(until=15)"
   ]
  },
  {
   "cell_type": "markdown",
   "metadata": {},
   "source": [
    "## Recursos compartidos\n",
    "\n",
    "SimPy ofrece tres tipos de recursos que lo ayudan a modelar problemas, en los que múltiples procesos desean utilizar un recurso de capacidad limitada (por ejemplo, automóviles en una estación de combustible con un número limitado de bombas de combustible) o problemas clásicos de productor y consumidor.\n",
    "\n",
    "### Uso de recursos básicos\n",
    "\n",
    "El automóvil ahora conducirá a una estación de carga de batería (BCS) y solicitará uno de sus dos puntos de carga. Si ambos puntos están actualmente en uso, espera hasta que uno de ellos vuelva a estar disponible. Luego comienza a cargar la batería y luego sale de la estación:"
   ]
  },
  {
   "cell_type": "code",
   "execution_count": 18,
   "metadata": {},
   "outputs": [],
   "source": [
    "def car(env, name, bcs, driving_time, charge_duration):\n",
    "    # Simulate driving to the BCS\n",
    "    yield env.timeout(driving_time)\n",
    "\n",
    "    # Request one of its charging spots\n",
    "    print('%s arriving at %d' % (name, env.now)) \n",
    "    with bcs.request() as req:\n",
    "        yield req\n",
    "        # Charge the battery\n",
    "        print('%s starting to charge at %s' % (name, env.now))\n",
    "        yield env.timeout(charge_duration)\n",
    "        print('%s leaving the bcs at %s' % (name, env.now))"
   ]
  },
  {
   "cell_type": "markdown",
   "metadata": {},
   "source": [
    "Un recurso necesita una referencia a un entorno y una capacidad cuando se crea:"
   ]
  },
  {
   "cell_type": "code",
   "execution_count": 19,
   "metadata": {},
   "outputs": [],
   "source": [
    "import simpy\n",
    "env = simpy.Environment()\n",
    "##The resource’s request() method generates an event that lets you wait until the resource becomes available again. \n",
    "## If you are resumed, you “own” the resource until you release it.\n",
    "# The basic Resource sorts waiting processes in a FIFO (first in—first out) way.\n",
    "bcs = simpy.Resource(env, capacity=2)"
   ]
  },
  {
   "cell_type": "markdown",
   "metadata": {},
   "source": [
    "Ahora podemos crear los procesos del automóvil y pasarles una referencia a nuestro recurso, así como algunos parámetros adicionales:"
   ]
  },
  {
   "cell_type": "code",
   "execution_count": 20,
   "metadata": {},
   "outputs": [],
   "source": [
    "for i in range(4):\n",
    "    env.process(car(env, 'Car %d' % i, bcs, i*2, 5))"
   ]
  },
  {
   "cell_type": "markdown",
   "metadata": {},
   "source": [
    "Finalmente, podemos comenzar la simulación. Dado que los procesos del automóvil terminan todos por su cuenta en esta simulación, no necesitamos especificar un tiempo hasta que la simulación se detendrá automáticamente cuando no queden más eventos:\n"
   ]
  },
  {
   "cell_type": "code",
   "execution_count": 21,
   "metadata": {},
   "outputs": [
    {
     "name": "stdout",
     "output_type": "stream",
     "text": [
      "Car 0 arriving at 0\n",
      "Car 0 starting to charge at 0\n",
      "Car 1 arriving at 2\n",
      "Car 1 starting to charge at 2\n",
      "Car 2 arriving at 4\n",
      "Car 0 leaving the bcs at 5\n",
      "Car 2 starting to charge at 5\n",
      "Car 3 arriving at 6\n",
      "Car 1 leaving the bcs at 7\n",
      "Car 3 starting to charge at 7\n",
      "Car 2 leaving the bcs at 10\n",
      "Car 3 leaving the bcs at 12\n"
     ]
    }
   ],
   "source": [
    "env.run()"
   ]
  },
  {
   "cell_type": "markdown",
   "metadata": {},
   "source": [
    "## Ejercicio\n",
    "\n",
    "Simular el siguiente escenario:\n",
    "\n",
    "* Un lavado de autos con un número limitado de máquinas y una cantidad de autos que llegan al lavado para ser limpiados.\n",
    "\n",
    "* El lavado de autos utiliza un recurso para modelar el número limitado de lavadoras. También define un proceso para lavar un automóvil.\n",
    "\n",
    "* Cuando un automóvil llega al lavadero de autos, solicita una máquina. Una vez que tiene uno, comienza los procesos de lavado del autolavado y espera a que termine. Finalmente libera la máquina y se va.\n",
    "\n",
    "* Los autos son generados por un proceso *setup*. Después de crear una cantidad inicial de automóviles, crea nuevos procesos de automóviles después de un intervalo de tiempo aleatorio mientras la simulación continúa."
   ]
  },
  {
   "cell_type": "code",
   "execution_count": null,
   "metadata": {},
   "outputs": [],
   "source": [
    "import random\n",
    "import simpy\n",
    "\n",
    "RANDOM_SEED = 42\n",
    "NUM_MACHINES = 2  # Number of machines in the carwash\n",
    "WASHTIME = 5      # Minutes it takes to clean a car\n",
    "T_INTER = 7       # Create a car every ~7 minutes\n",
    "SIM_TIME = 20     # Simulation time in minutes\n",
    "\n",
    "\n",
    "class Carwash(object):\n",
    "    \"\"\"A carwash has a limited number of machines to clean cars in parallel.\n",
    "\n",
    "    Cars have to request one of the machines. When they got one, they\n",
    "    can start the washing processes and wait for it to finish (which\n",
    "    takes ``washtime`` minutes).\n",
    "\n",
    "    \"\"\"\n",
    "    def __init__(self, env, num_machines, washtime):\n",
    "        self.env = env\n",
    "        self.machine = # YOUR CODE HERE\n",
    "        self.washtime = # YOUR CODE HERE\n",
    "\n",
    "    def wash(self, car):\n",
    "        \"\"\"The washing processes. It takes a ``car`` processes and tries\n",
    "        to clean it.\"\"\"\n",
    "        # YOUR CODE HERE\n",
    "        print(\"Carwash removed %d%% of %s's dirt.\" %\n",
    "              (random.randint(50, 99), car))"
   ]
  },
  {
   "cell_type": "code",
   "execution_count": null,
   "metadata": {},
   "outputs": [],
   "source": [
    "def car(env, name, cw):\n",
    "    \"\"\"The car process (each car has a name) arrives at the carwash\n",
    "    (cw) and requests a cleaning machine.\n",
    "\n",
    "    It then starts the washing process, waits for it to finish and\n",
    "    leaves to never come back ...\n",
    "\n",
    "    \"\"\"\n",
    "    print('%s arrives at the carwash at %.2f.' % (name, env.now))\n",
    "    # YOUR CODE HERE\n",
    "\n",
    "        print('%s enters the carwash at %.2f.' % (name, env.now))\n",
    "        # YOUR CODE HERE\n",
    "\n",
    "        print('%s leaves the carwash at %.2f.' % (name, env.now))"
   ]
  },
  {
   "cell_type": "code",
   "execution_count": null,
   "metadata": {},
   "outputs": [],
   "source": [
    "def setup(env, num_machines, washtime, t_inter):\n",
    "    \"\"\"Create a carwash, a number of initial cars and keep creating cars\n",
    "    approx. every 't_inter' minutes.\"\"\"\n",
    "    # Create the carwash\n",
    "    # YOUR CODE HERE\n",
    "\n",
    "    # Create 4 initial cars\n",
    "    # YOUR CODE HERE\n",
    "\n",
    "    # Create more cars while the simulation is running\n",
    "    while True:\n",
    "        # YOUR CODE HERE"
   ]
  },
  {
   "cell_type": "code",
   "execution_count": 22,
   "metadata": {},
   "outputs": [
    {
     "name": "stdout",
     "output_type": "stream",
     "text": [
      "Carwash\n",
      "Check out http://youtu.be/fXXmeP9TvBg while simulating ... ;-)\n",
      "Car 0 arrives at the carwash at 0.00.\n",
      "Car 1 arrives at the carwash at 0.00.\n",
      "Car 2 arrives at the carwash at 0.00.\n",
      "Car 3 arrives at the carwash at 0.00.\n",
      "Car 0 enters the carwash at 0.00.\n",
      "Car 1 enters the carwash at 0.00.\n",
      "Car 4 arrives at the carwash at 5.00.\n",
      "Carwash removed 97% of Car 0's dirt.\n",
      "Carwash removed 67% of Car 1's dirt.\n",
      "Car 0 leaves the carwash at 5.00.\n",
      "Car 1 leaves the carwash at 5.00.\n",
      "Car 2 enters the carwash at 5.00.\n",
      "Car 3 enters the carwash at 5.00.\n",
      "Car 5 arrives at the carwash at 10.00.\n",
      "Carwash removed 64% of Car 2's dirt.\n",
      "Carwash removed 58% of Car 3's dirt.\n",
      "Car 2 leaves the carwash at 10.00.\n",
      "Car 3 leaves the carwash at 10.00.\n",
      "Car 4 enters the carwash at 10.00.\n",
      "Car 5 enters the carwash at 10.00.\n",
      "Carwash removed 97% of Car 4's dirt.\n",
      "Carwash removed 56% of Car 5's dirt.\n",
      "Car 4 leaves the carwash at 15.00.\n",
      "Car 5 leaves the carwash at 15.00.\n",
      "Car 6 arrives at the carwash at 16.00.\n",
      "Car 6 enters the carwash at 16.00.\n"
     ]
    }
   ],
   "source": [
    "# Setup and start the simulation\n",
    "print('Carwash')\n",
    "random.seed(RANDOM_SEED)  # This helps reproducing the results\n",
    "\n",
    "# Create an environment and start the setup process\n",
    "env = simpy.Environment()\n",
    "env.process(setup(env, NUM_MACHINES, WASHTIME, T_INTER))\n",
    "\n",
    "# Execute!\n",
    "env.run(until=SIM_TIME)"
   ]
  },
  {
   "cell_type": "markdown",
   "metadata": {},
   "source": [
    "**Ejercicio 2:** Ahora va a modificar el ejercicio anterior, simulando tanto el tiempo de arribo como el tiempo del servicio, siguiendo una distribución exponencial."
   ]
  },
  {
   "cell_type": "code",
   "execution_count": 3,
   "metadata": {},
   "outputs": [],
   "source": [
    "import random\n",
    "\n",
    "import simpy\n",
    "\n",
    "NUM_MACHINES = 2  # Number of machines in the carwash\n",
    "WASHTIME = 5      # Minutes it takes to clean a car\n",
    "T_INTER = 7       # Create a car every ~7 minutes\n",
    "SIM_TIME = 20     # Simulation time in minutes\n",
    "number_cars = 5\n"
   ]
  },
  {
   "cell_type": "code",
   "execution_count": 4,
   "metadata": {},
   "outputs": [
    {
     "name": "stdout",
     "output_type": "stream",
     "text": [
      "Carwash\n",
      "Car 0 arrives at the carwash at 7.14.\n",
      "Car 0 enters the carwash at 7.14.\n",
      "Car 1 arrives at the carwash at 7.32.\n",
      "Car 1 enters the carwash at 7.32.\n",
      "Carwash removed 93% of Car 0's dirt.\n",
      "Car 0 leaves the carwash at 8.75.\n",
      "Car 2 arrives at the carwash at 9.09.\n",
      "Car 2 enters the carwash at 9.09.\n",
      "Carwash removed 87% of Car 2's dirt.\n",
      "Car 2 leaves the carwash at 13.03.\n",
      "Carwash removed 77% of Car 1's dirt.\n",
      "Car 1 leaves the carwash at 13.99.\n",
      "Car 3 arrives at the carwash at 18.53.\n",
      "Car 3 enters the carwash at 18.53.\n",
      "Car 4 arrives at the carwash at 18.76.\n",
      "Car 4 enters the carwash at 18.76.\n",
      "Carwash removed 88% of Car 3's dirt.\n",
      "Car 3 leaves the carwash at 19.03.\n"
     ]
    }
   ],
   "source": [
    "# Setup and start the simulation\n",
    "print('Carwash')\n",
    "random.seed(RANDOM_SEED)  # This helps reproducing the results\n",
    "\n",
    "# Create an environment and start the setup process\n",
    "env = simpy.Environment()\n",
    "env.process(setup(env, NUM_MACHINES, WASHTIME, T_INTER, number_cars))\n",
    "\n",
    "# Execute!\n",
    "env.run(until=SIM_TIME)"
   ]
  },
  {
   "cell_type": "markdown",
   "metadata": {},
   "source": [
    "**Ejercicio 3:** Calcule el intervalo de confianza para la media de la simulación anterior. "
   ]
  },
  {
   "cell_type": "markdown",
   "metadata": {},
   "source": [
    "**************************************************"
   ]
  },
  {
   "cell_type": "markdown",
   "metadata": {},
   "source": [
    "# Notas adicionales \n",
    "\n",
    "## Simpy\n",
    "\n",
    "### Clases\n",
    "\n",
    "**Proceso:** simula una entidad que evoluciona en el tiempo, p. un cliente que necesita ser atendido por un cajero automático (nos referiremos a él como un hilo, aunque no sea un hilo formal de Python)\n",
    "\n",
    "**Recurso:** simula algo para poner en cola, p. Ej. la máquina\n",
    "\n",
    "### Funciones\n",
    "\n",
    "**activate():** se utiliza para marcar un hilo como ejecutable cuando se crea por primera vez\n",
    "\n",
    "**yield hold:** se utiliza para indicar el paso de una cierta cantidad de tiempo dentro de un hilo; **yield** es un operador de Python cuyo primer operando es una función a llamar, en este caso un código para una función que realiza\n",
    "la operación de retención en la biblioteca SimPy\n",
    "\n",
    "**yield request:** se usa para hacer que un hilo se una a una cola para un recurso determinado (y comience a usarlo inmediatamente si no hay otros trabajos esperando el recurso)\n",
    "\n",
    "**yield release:**  se utiliza para indicar que el subproceso se realiza utilizando el recurso dado, lo que permite que el siguiente subproceso en la cola, si lo hay, use el recurso\n",
    "\n",
    "**yield passivate:** hace que un hilo espere hasta que \"otro hilo\" lo \"despierte\".\n",
    "\n",
    "**reactivate:** hace \"despertar\" a un hilo previamente pasivo\n",
    "\n",
    "**cancel():** cancela todos los eventos asociados con un hilo previamente pasivo"
   ]
  },
  {
   "cell_type": "markdown",
   "metadata": {
    "colab": {},
    "colab_type": "code",
    "id": "O8J17pk7O4SO"
   },
   "source": [
    "## Generadores\n",
    "\n",
    "Los generadores se utilizan para crear iteradores, pero con un enfoque diferente. Los generadores son funciones simples que devuelven un conjunto iterable de elementos, uno a la vez, de una manera especial.\n",
    "\n",
    "Cuando una iteración sobre un conjunto de elementos comienza a usar la instrucción for, se ejecuta el generador. Una vez que el código de función del generador alcanza una declaración de \"yield\", el generador devuelve su ejecución al ciclo for, devolviendo un nuevo valor del conjunto. La función de generador puede generar tantos valores (posiblemente infinitos) como desee, produciendo cada uno a su vez[Ref](https://www.freecodecamp.org/news/how-and-why-you-should-use-python-generators-f6fb56650888/).\n",
    "\n",
    "Ejemplo: Una función generadora que devuelve 7 enteros aleatorios:"
   ]
  },
  {
   "cell_type": "code",
   "execution_count": 2,
   "metadata": {},
   "outputs": [
    {
     "name": "stdout",
     "output_type": "stream",
     "text": [
      "And the next number is... 32!\n",
      "And the next number is... 39!\n",
      "And the next number is... 9!\n",
      "And the next number is... 9!\n",
      "And the next number is... 21!\n",
      "And the next number is... 31!\n",
      "And the next number is... 6!\n"
     ]
    }
   ],
   "source": [
    "import random\n",
    "\n",
    "def lottery():\n",
    "    # returns 6 numbers between 1 and 40\n",
    "    for i in range(6):\n",
    "        yield random.randint(1, 40)\n",
    "\n",
    "    # returns a 7th number between 1 and 15\n",
    "    yield random.randint(1,15)\n",
    "\n",
    "for random_number in lottery():\n",
    "       print(\"And the next number is... %d!\" %(random_number))"
   ]
  },
  {
   "cell_type": "markdown",
   "metadata": {},
   "source": []
  }
 ],
 "metadata": {
  "colab": {
   "collapsed_sections": [],
   "name": "01. Introduction_to_SimPy.ipynb",
   "provenance": []
  },
  "kernelspec": {
   "display_name": "Python 3",
   "language": "python",
   "name": "python3"
  },
  "language_info": {
   "codemirror_mode": {
    "name": "ipython",
    "version": 3
   },
   "file_extension": ".py",
   "mimetype": "text/x-python",
   "name": "python",
   "nbconvert_exporter": "python",
   "pygments_lexer": "ipython3",
   "version": "3.7.1"
  }
 },
 "nbformat": 4,
 "nbformat_minor": 1
}
