{
 "cells": [
  {
   "cell_type": "markdown",
   "metadata": {
    "colab_type": "text",
    "id": "I4XclYjbSMkf"
   },
   "source": [
    "# 1 Paradigmas\n",
    "\n",
    "Basado en A Discrete-Event Simulation Course Based on the SimPy Language [Ref](http://heather.cs.ucdavis.edu/~matloff/SimCourse/PLN/DESimIntro.pdf)\n",
    "\n",
    "## 1.1 Paradigma orientado a la actividad\n",
    "\n",
    "\n",
    "## Sistema de colas\n",
    "\n",
    "* Los trabajos llegan en momentos aleatorios y el servidor de trabajos toma un tiempo aleatorio para cada servicio. \n",
    "* El tiempo transcurrido entre la llegada de los trabajos y el tiempo necesario para servir un trabajo será\n",
    "variables aleatorias continuas, posiblemente con distribuciones exponenciales u otras distribuciones continuas.\n",
    "\n",
    "Ejemplo: el servidor es un cajero automático y los trabajos son clientes que esperan en la cola.\n",
    "\n",
    "Bajo el paradigma orientado a la actividad, dividiríamos el tiempo en pequeños incrementos. Si por ejemplo la media\n",
    "del tiempo entre llegadas fue, 20 segundos, podríamos dividir el tiempo en incrementos de tamaño 0.001. En cada\n",
    "punto, nuestro código miraría todas las actividades, p. ej. servicio de trabajo actualmente activo, y verificaría la\n",
    "ocurrencia de eventos, p.ej. finalización del servicio.\n",
    "\n",
    "Nuestro objetivo es encontrar la espera promedio de trabajo."
   ]
  },
  {
   "cell_type": "markdown",
   "metadata": {},
   "source": [
    "<img src = \"../imgs/act_orien_sim.png\">\n"
   ]
  },
  {
   "cell_type": "markdown",
   "metadata": {},
   "source": [
    "## 1.2 Paradigma orientado a la entidad\n",
    "\n",
    "Un programa de simulación orientado a la actividad será muy lento de ejecutar. La mayoría de los incrementos de tiempo no producirá ningún cambio de estado en el sistema, es decir, no habrá nuevas llegadas a la cola y no se completarán servicio por parte del servidor. Por lo tanto, las comprobaciones de actividad serán tiempo de procesador perdido\n",
    "\n",
    "Sin embargo, la inspección del pseudocódigo anterior muestra una forma de aumentar drásticamente la velocidad de simulación. En lugar de tener el tiempo \"arrastrándose\" tan lentamente, ¿por qué no tomar un \"atajo\" para el próximo evento?\n",
    "\n",
    "Por ejemplo, si reemplazamos \n",
    "\n",
    "1 for SimTime = 1*0.001 to NIncrements*0.001 do\n",
    "\n",
    "Por el momento del próximo evento:\n",
    "\n",
    "<img src = \"../imgs/entity_orient_parad_segment.png\">"
   ]
  },
  {
   "cell_type": "markdown",
   "metadata": {},
   "source": [
    "Con esta modificación, revisamos nuevamente el pseudocogido\n",
    "\n",
    "<img  src=\"../imgs/entity_orient_parad.png\">\n",
    "\n",
    "Una parte importante del tiempo de ejecución del programa consistirá en una operación de búsqueda mínima dentro del conjunto de eventos."
   ]
  },
  {
   "cell_type": "markdown",
   "metadata": {
    "cellView": "both",
    "colab": {},
    "colab_type": "code",
    "id": "IENO7rYtScXG"
   },
   "source": [
    "## 1.3 Paradigma orientado a procesos\n",
    "\n",
    "Aquí cada actividad de simulación es modelada por un proceso. Para el caso anterior, tendríamos dos hilos, uno que simula las llegadas y otro, para el funcionamiento del servidor. \n",
    "\n",
    "Hilo de llegadas\n",
    "\n",
    "<img src=\"../imgs/thread1.png\">\n",
    "\n",
    "Hilo del servidor\n",
    "\n",
    "<img src=\"../imgs/thread2.png\">\n",
    "\n",
    "Hilo administrador del conjunto de eventos\n",
    "\n",
    "<img src=\"../imgs/event_set_thread.png\">\n",
    "\n",
    "Función main()\n",
    "\n",
    "<img src=\"../imgs/main.png\">"
   ]
  },
  {
   "cell_type": "markdown",
   "metadata": {},
   "source": [
    "# Simpy overview\n",
    "\n",
    "### Clases\n",
    "\n",
    "**Proceso:** simula una entidad que evoluciona en el tiempo, p. un cliente que necesita ser atendido por un cajero automático (nos referiremos a él como un hilo, aunque no sea un hilo formal de Python)\n",
    "\n",
    "**Recurso:** simula algo para poner en cola, p. Ej. la máquina\n",
    "\n",
    "### Funciones\n",
    "\n",
    "**activate():** se utiliza para marcar un hilo como ejecutable cuando se crea por primera vez\n",
    "\n",
    "**simulate():** inicia la simulación\n",
    "\n",
    "**yield hold:** se utiliza para indicar el paso de una cierta cantidad de tiempo dentro de un hilo; **yield** es un operador de Python cuyo primer operando es una función a llamar, en este caso un código para una función que realiza\n",
    "la operación de retención en la biblioteca SimPy\n",
    "\n",
    "**yield request:** se usa para hacer que un hilo se una a una cola para un recurso determinado (y comience a usarlo inmediatamente si no hay otros trabajos esperando el recurso)\n",
    "\n",
    "**yield release:**  se utiliza para indicar que el subproceso se realiza utilizando el recurso dado, lo que permite que el siguiente subproceso en la cola, si lo hay, use el recurso\n",
    "\n",
    "**yield passivate:** hace que un hilo espere hasta que \"otro hilo\" lo \"despierte\".\n",
    "\n",
    "**reactivate:** hace \"despertar\" a un hilo previamente pasivo\n",
    "\n",
    "**cancel():** cancela todos los eventos asociados con un hilo previamente pasivo"
   ]
  },
  {
   "cell_type": "code",
   "execution_count": 8,
   "metadata": {
    "colab": {},
    "colab_type": "code",
    "id": "igkqcKxlSMkg",
    "outputId": "922adf62-03de-4df3-ac76-68f394f3833f"
   },
   "outputs": [
    {
     "name": "stdout",
     "output_type": "stream",
     "text": [
      "Requirement already satisfied: SimPy in /Users/franchesca/anaconda3/lib/python3.7/site-packages (3.0.11)\r\n"
     ]
    }
   ],
   "source": [
    "!pip install SimPy"
   ]
  },
  {
   "cell_type": "code",
   "execution_count": 11,
   "metadata": {},
   "outputs": [
    {
     "ename": "ModuleNotFoundError",
     "evalue": "No module named 'SimPy'",
     "output_type": "error",
     "traceback": [
      "\u001b[0;31m---------------------------------------------------------------------------\u001b[0m",
      "\u001b[0;31mModuleNotFoundError\u001b[0m                       Traceback (most recent call last)",
      "\u001b[0;32m<ipython-input-11-ab482e90fd5a>\u001b[0m in \u001b[0;36m<module>\u001b[0;34m\u001b[0m\n\u001b[0;32m----> 1\u001b[0;31m \u001b[0;32mimport\u001b[0m \u001b[0mSimPy\u001b[0m\u001b[0;34m\u001b[0m\u001b[0;34m\u001b[0m\u001b[0m\n\u001b[0m",
      "\u001b[0;31mModuleNotFoundError\u001b[0m: No module named 'SimPy'"
     ]
    }
   ],
   "source": [
    "import SimPy"
   ]
  },
  {
   "cell_type": "code",
   "execution_count": 9,
   "metadata": {},
   "outputs": [
    {
     "ename": "ModuleNotFoundError",
     "evalue": "No module named 'SimPy'",
     "output_type": "error",
     "traceback": [
      "\u001b[0;31m---------------------------------------------------------------------------\u001b[0m",
      "\u001b[0;31mModuleNotFoundError\u001b[0m                       Traceback (most recent call last)",
      "\u001b[0;32m<ipython-input-9-4e68973b7655>\u001b[0m in \u001b[0;36m<module>\u001b[0;34m\u001b[0m\n\u001b[1;32m     12\u001b[0m \u001b[0;31m# 0.66.\u001b[0m\u001b[0;34m\u001b[0m\u001b[0;34m\u001b[0m\u001b[0;34m\u001b[0m\u001b[0m\n\u001b[1;32m     13\u001b[0m \u001b[0;34m\u001b[0m\u001b[0m\n\u001b[0;32m---> 14\u001b[0;31m \u001b[0;32mimport\u001b[0m \u001b[0mSimPy\u001b[0m\u001b[0;34m.\u001b[0m\u001b[0mSimulation\u001b[0m \u001b[0;31m# required\u001b[0m\u001b[0;34m\u001b[0m\u001b[0;34m\u001b[0m\u001b[0m\n\u001b[0m\u001b[1;32m     15\u001b[0m \u001b[0;32mimport\u001b[0m \u001b[0mrandom\u001b[0m\u001b[0;34m\u001b[0m\u001b[0;34m\u001b[0m\u001b[0m\n\u001b[1;32m     16\u001b[0m \u001b[0;34m\u001b[0m\u001b[0m\n",
      "\u001b[0;31mModuleNotFoundError\u001b[0m: No module named 'SimPy'"
     ]
    }
   ],
   "source": [
    "#!/usr/bin/env python\n",
    "\n",
    "# MachRep1.py\n",
    "\n",
    "# Introductory SimPy example: Two machines, which sometimes break down.\n",
    "# Up time is exponentially distributed with mean 1.0, and repair time is\n",
    "# exponentially distributed with mean 0.5. There are two repairpersons,\n",
    "# so the two machines can be repaired simultaneously if they are down\n",
    "# at the same time.\n",
    "\n",
    "# Output is long-run proportion of up time. Should get value of about\n",
    "# 0.66.\n",
    "\n",
    "import SimPy.Simulation # required\n",
    "import random\n",
    "\n",
    "class G: # global variables\n",
    "    Rnd = random.Random(12345)\n",
    "\n",
    "class MachineClass(SimPy.Simulation.Process):\n",
    "    UpRate = 1/1.0 # reciprocal of mean up time\n",
    "    RepairRate = 1/0.5 # reciprocal of mean repair time\n",
    "    TotalUpTime = 0.0 # total up time for all machines\n",
    "    NextID = 0 # next available ID number for MachineClass objects\n",
    "    \n",
    "    def __init__(self): # required constructor\n",
    "        SimPy.Simulation.Process.__init__(self) # must call parent constructor\n",
    "        # instance variables\n",
    "        self.StartUpTime = 0.0 # time the current up period started\n",
    "        self.ID = MachineClass.NextID # ID for this MachineClass object\n",
    "        MachineClass.NextID += 1\n",
    "    def Run(self): # required constructor\n",
    "        while 1:\n",
    "            # record current time, now(), so can see how long machine is up\n",
    "            self.StartUpTime = SimPy.Simulation.now()\n",
    "            # hold for exponentially distributed up time\n",
    "            UpTime = G.Rnd.expovariate(MachineClass.UpRate)\n",
    "            yield SimPy.Simulation.hold,self,UpTime # simulate UpTime\n",
    "            # update up time total\n",
    "            MachineClass.TotalUpTime += SimPy.Simulation.now() - self.StartUpTime\n",
    "            RepairTime = G.Rnd.expovariate(MachineClass.RepairRate)\n",
    "            # hold for exponentially distributed repair time\n",
    "            yield SimPy.Simulation.hold,self,RepairTime\n",
    "\n",
    "def main():\n",
    "    SimPy.Simulation.initialize() # required\n",
    "    # set up the two machine threads\n",
    "    for I in range(2):\n",
    "        # create a MachineClass object\n",
    "        M = MachineClass()\n",
    "        # register thread M, executing M’s Run() method,\n",
    "        SimPy.Simulation.activate(M,M.Run()) # required\n",
    "        # run until simulated time 10000\n",
    "    MaxSimtime = 10000.0\n",
    "    SimPy.Simulation.simulate(until=MaxSimtime) # required\n",
    "    print (\"the percentage of up time was\", MachineClass.TotalUpTime/(2*MaxSimtime))\n",
    "\n",
    "if __name__ == '__main__': main()"
   ]
  },
  {
   "cell_type": "code",
   "execution_count": 0,
   "metadata": {
    "colab": {},
    "colab_type": "code",
    "id": "O8J17pk7O4SO"
   },
   "outputs": [],
   "source": []
  }
 ],
 "metadata": {
  "colab": {
   "collapsed_sections": [],
   "name": "01. Introduction_to_SimPy.ipynb",
   "provenance": []
  },
  "kernelspec": {
   "display_name": "Python 3",
   "language": "python",
   "name": "python3"
  },
  "language_info": {
   "codemirror_mode": {
    "name": "ipython",
    "version": 3
   },
   "file_extension": ".py",
   "mimetype": "text/x-python",
   "name": "python",
   "nbconvert_exporter": "python",
   "pygments_lexer": "ipython3",
   "version": "3.7.1"
  }
 },
 "nbformat": 4,
 "nbformat_minor": 1
}
